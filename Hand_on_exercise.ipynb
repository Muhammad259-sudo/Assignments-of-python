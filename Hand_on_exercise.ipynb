{
  "nbformat": 4,
  "nbformat_minor": 0,
  "metadata": {
    "colab": {
      "provenance": []
    },
    "kernelspec": {
      "name": "python3",
      "display_name": "Python 3"
    },
    "language_info": {
      "name": "python"
    }
  },
  "cells": [
    {
      "cell_type": "markdown",
      "source": [
        "# Arithmetic Operators"
      ],
      "metadata": {
        "id": "xs7Liho5pvT2"
      }
    },
    {
      "cell_type": "code",
      "source": [
        "\n",
        "a=15\n",
        "b=4\n",
        "print(\"a+b=\",a+b)\n",
        "print(\"a-b=\",a-b)\n",
        "print(\"a*b=\",a*b)\n",
        "print(\"a/b=\",a/b)\n",
        "print(\"a//b=\",a//b)\n",
        "print(\"a**b=\",a**b)"
      ],
      "metadata": {
        "id": "iOyObcP5bTbv",
        "colab": {
          "base_uri": "https://localhost:8080/"
        },
        "outputId": "b1af933b-f7b1-4f30-fadf-4bfaf8af1844"
      },
      "execution_count": null,
      "outputs": [
        {
          "output_type": "stream",
          "name": "stdout",
          "text": [
            "a+b= 19\n",
            "a-b= 11\n",
            "a*b= 60\n",
            "a/b= 3.75\n",
            "a//b= 3\n",
            "a**b= 50625\n"
          ]
        }
      ]
    },
    {
      "cell_type": "markdown",
      "source": [
        "Comparison Operators"
      ],
      "metadata": {
        "id": "ixf9z9ddvehn"
      }
    },
    {
      "cell_type": "code",
      "source": [
        "print(\"a>b=\",a>b)\n",
        "print(\"a<B=\",a<b)\n",
        "print(\"a==b=\",a==b)\n",
        "print(\"a!=b\",a!=b)\n",
        "print(\"a>=b\",a>=b)\n",
        "print(\"a<=b\",a<=b)"
      ],
      "metadata": {
        "id": "cKTcIeWQsZBl",
        "colab": {
          "base_uri": "https://localhost:8080/"
        },
        "outputId": "f5764575-4a57-4e17-eb0b-d51531a28408"
      },
      "execution_count": null,
      "outputs": [
        {
          "output_type": "stream",
          "name": "stdout",
          "text": [
            "a>b= True\n",
            "a<B= False\n",
            "a==b= False\n",
            "a!=b True\n",
            "a>=b True\n",
            "a<=b False\n"
          ]
        }
      ]
    },
    {
      "cell_type": "markdown",
      "source": [
        "Logical Operators"
      ],
      "metadata": {
        "id": "BFOnfjzywzfF"
      }
    },
    {
      "cell_type": "code",
      "source": [
        "x=True\n",
        "y=False\n",
        "print(\"x and y:\",x and y)\n",
        "print(\"x or y:\",x or y)\n",
        "print(\"not x\",not x)\n"
      ],
      "metadata": {
        "colab": {
          "base_uri": "https://localhost:8080/"
        },
        "id": "IksZPdb9w7Li",
        "outputId": "09c02af9-f02e-4158-d302-bf612c0c3288"
      },
      "execution_count": null,
      "outputs": [
        {
          "output_type": "stream",
          "name": "stdout",
          "text": [
            "x and y: False\n",
            "x or y: True\n",
            "not x False\n"
          ]
        }
      ]
    },
    {
      "cell_type": "markdown",
      "source": [
        "Assignment Operators"
      ],
      "metadata": {
        "id": "OZE_4DYHyqhX"
      }
    },
    {
      "cell_type": "code",
      "source": [
        "x=10\n",
        "print(\"Assignment:x=10\")\n",
        "x+=5\n",
        "print(\"Addition Assignment:x+=5\")\n",
        "x-=5\n",
        "print(\"Subtraction Assignment:x-=5\")\n",
        "x*=5\n",
        "print(\"Multiplication Assignment:x*=5\")\n",
        "x/=5\n",
        "print(\"Division Assiignment:x/=5\")\n",
        "x//=5\n",
        "print(\"floor Division Assignment:x//=5\")\n",
        "x**=5\n",
        "print(\"Exponent Assignment:x**=5\")\n"
      ],
      "metadata": {
        "colab": {
          "base_uri": "https://localhost:8080/"
        },
        "id": "V2akNxc3yynX",
        "outputId": "b85ce1b1-d289-4c39-e6b2-0bfe639b1ff1"
      },
      "execution_count": null,
      "outputs": [
        {
          "output_type": "stream",
          "name": "stdout",
          "text": [
            "Assignment:x=10\n",
            "Addition Assignment:x+=5\n",
            "Subtraction Assignment:x-=5\n",
            "Multiplication Assignment:x*=5\n",
            "Division Assiignment:x/=5\n",
            "floor Division Assignment:x//=5\n",
            "Exponent Assignment:x**=5\n"
          ]
        }
      ]
    },
    {
      "cell_type": "markdown",
      "source": [
        "Identity Operators"
      ],
      "metadata": {
        "id": "5HOiPIb416S1"
      }
    },
    {
      "cell_type": "code",
      "source": [
        "x=56\n",
        "y=46\n",
        "print(\"x is y\")\n",
        "print(\"x is not y\")"
      ],
      "metadata": {
        "colab": {
          "base_uri": "https://localhost:8080/"
        },
        "id": "SsxzZhv_2CVO",
        "outputId": "cc31c2b8-cd51-41fb-a74d-0e6e201d3849"
      },
      "execution_count": null,
      "outputs": [
        {
          "output_type": "stream",
          "name": "stdout",
          "text": [
            "x is y\n",
            "x is not y\n"
          ]
        }
      ]
    },
    {
      "cell_type": "markdown",
      "source": [
        "Membership Operators"
      ],
      "metadata": {
        "id": "RbPXCJIW20UV"
      }
    },
    {
      "cell_type": "code",
      "source": [
        "text=\"python is awesome\"\n",
        "print(\"python in text\")\n",
        "print(\"jawa not in text\")"
      ],
      "metadata": {
        "colab": {
          "base_uri": "https://localhost:8080/"
        },
        "id": "vJrtZrg5279I",
        "outputId": "f4c7e4c7-b34f-4bc5-b5e6-f8e6b9c2899d"
      },
      "execution_count": null,
      "outputs": [
        {
          "output_type": "stream",
          "name": "stdout",
          "text": [
            "python in text\n",
            "jawa not in text\n"
          ]
        }
      ]
    },
    {
      "cell_type": "markdown",
      "source": [
        "Keyword Module"
      ],
      "metadata": {
        "id": "p7fV7yl03lTG"
      }
    },
    {
      "cell_type": "code",
      "source": [
        "import keyword\n",
        "print(\"python.keyword\")\n",
        "print(\"keyword.kwlist\")"
      ],
      "metadata": {
        "colab": {
          "base_uri": "https://localhost:8080/"
        },
        "id": "Yu6adgbQ3o6c",
        "outputId": "45768be8-f9a1-49a5-ee9a-6ec604b49b38"
      },
      "execution_count": null,
      "outputs": [
        {
          "output_type": "stream",
          "name": "stdout",
          "text": [
            "python.keyword\n",
            "keyword.kwlist\n"
          ]
        }
      ]
    },
    {
      "cell_type": "markdown",
      "source": [
        "Variable Decleration and Types"
      ],
      "metadata": {
        "id": "PZuNJ0CPDFJv"
      }
    },
    {
      "cell_type": "code",
      "source": [
        "Name=\"Ali\"\n",
        "Age=14\n",
        "Height=5.4\n",
        "print(\"Name:\",Name,type(Name))\n",
        "print(\"Age\",Age,type(Age))\n",
        "print(\"Height\",Height,type(Height))"
      ],
      "metadata": {
        "colab": {
          "base_uri": "https://localhost:8080/"
        },
        "id": "qtEqgrruDMC3",
        "outputId": "5ce09c3e-56c3-4d72-c83b-0702fc67ffd6"
      },
      "execution_count": null,
      "outputs": [
        {
          "output_type": "stream",
          "name": "stdout",
          "text": [
            "Name: Ali <class 'str'>\n",
            "Age 14 <class 'int'>\n",
            "Height 5.4 <class 'float'>\n"
          ]
        }
      ]
    },
    {
      "cell_type": "markdown",
      "source": [
        "Valid and Invalid variables name"
      ],
      "metadata": {
        "id": "TlTUBtUxEocI"
      }
    },
    {
      "cell_type": "code",
      "source": [
        "my_name=\"Ali\"\n",
        "my_age=14\n",
        "my_height=5.4\n",
        "subject_name=\"python\"\n",
        "score=56\n",
        "is_student=True"
      ],
      "metadata": {
        "id": "R22yLai_ExAY"
      },
      "execution_count": null,
      "outputs": []
    },
    {
      "cell_type": "markdown",
      "source": [
        "Assign multiple values in one line and use type()andid() to inspect them"
      ],
      "metadata": {
        "id": "8eSmKcHc8Syn"
      }
    },
    {
      "cell_type": "code",
      "source": [
        "x,y,z=1,5.6,\"python\"\n",
        "print(\"x=\",x,\"|_type:\",type(x),\"|_id:\",id(x))\n",
        "print(\"y=\",y,\"|_type:\",type(y),\"|_id\",id(y))\n",
        "print(\"z=\",z,\"|_type:\",type(z),\"|_id:\",id(z))"
      ],
      "metadata": {
        "colab": {
          "base_uri": "https://localhost:8080/"
        },
        "id": "5H0NZgJX-SpF",
        "outputId": "05739370-40a6-4f37-a7ab-e5374904f221"
      },
      "execution_count": null,
      "outputs": [
        {
          "output_type": "stream",
          "name": "stdout",
          "text": [
            "x= 1 |_type: <class 'int'> |_id: 10757736\n",
            "y= 5.6 |_type: <class 'float'> |_id 139289371277744\n",
            "z= python |_type: <class 'str'> |_id: 139289789557168\n"
          ]
        }
      ]
    },
    {
      "cell_type": "code",
      "source": [
        "my_split='ali, asim, ayan'\n",
        "print()"
      ],
      "metadata": {
        "id": "r2-ZBzYgp8PR"
      },
      "execution_count": null,
      "outputs": []
    }
  ]
}